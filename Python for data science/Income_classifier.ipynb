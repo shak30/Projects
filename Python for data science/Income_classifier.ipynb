{
 "cells": [
  {
   "cell_type": "code",
   "execution_count": 1,
   "id": "cefae1a1-288a-4124-a0e9-99f890011560",
   "metadata": {},
   "outputs": [],
   "source": [
    "import pandas as pd\n",
    "import numpy as np\n",
    "import seaborn as sns\n",
    "import os\n",
    "os.getcwd()\n",
    "df= pd.read_csv(\"/Users/shaktisingh/Documents/Python for data science/income.csv\")"
   ]
  },
  {
   "cell_type": "code",
   "execution_count": 2,
   "id": "bef9ae8c-021a-4fe4-b249-618cd0263577",
   "metadata": {},
   "outputs": [
    {
     "name": "stdout",
     "output_type": "stream",
     "text": [
      "<class 'pandas.core.frame.DataFrame'>\n",
      "RangeIndex: 31978 entries, 0 to 31977\n",
      "Data columns (total 13 columns):\n",
      " #   Column         Non-Null Count  Dtype \n",
      "---  ------         --------------  ----- \n",
      " 0   age            31978 non-null  int64 \n",
      " 1   JobType        31978 non-null  object\n",
      " 2   EdType         31978 non-null  object\n",
      " 3   maritalstatus  31978 non-null  object\n",
      " 4   occupation     31978 non-null  object\n",
      " 5   relationship   31978 non-null  object\n",
      " 6   race           31978 non-null  object\n",
      " 7   gender         31978 non-null  object\n",
      " 8   capitalgain    31978 non-null  int64 \n",
      " 9   capitalloss    31978 non-null  int64 \n",
      " 10  hoursperweek   31978 non-null  int64 \n",
      " 11  nativecountry  31978 non-null  object\n",
      " 12  SalStat        31978 non-null  object\n",
      "dtypes: int64(4), object(9)\n",
      "memory usage: 3.2+ MB\n",
      "age              0\n",
      "JobType          0\n",
      "EdType           0\n",
      "maritalstatus    0\n",
      "occupation       0\n",
      "relationship     0\n",
      "race             0\n",
      "gender           0\n",
      "capitalgain      0\n",
      "capitalloss      0\n",
      "hoursperweek     0\n",
      "nativecountry    0\n",
      "SalStat          0\n",
      "dtype: int64\n"
     ]
    }
   ],
   "source": [
    "data=df.copy()\n",
    "data.info()\n",
    "print(data.isnull().sum())"
   ]
  },
  {
   "cell_type": "code",
   "execution_count": 3,
   "id": "302a51ad-bc4d-4fdf-af84-4d4e9bbc8bbe",
   "metadata": {},
   "outputs": [
    {
     "name": "stdout",
     "output_type": "stream",
     "text": [
      "                age   capitalgain   capitalloss  hoursperweek\n",
      "count  31978.000000  31978.000000  31978.000000  31978.000000\n",
      "mean      38.579023   1064.360623     86.739352     40.417850\n",
      "std       13.662085   7298.596271    401.594301     12.345285\n",
      "min       17.000000      0.000000      0.000000      1.000000\n",
      "25%       28.000000      0.000000      0.000000     40.000000\n",
      "50%       37.000000      0.000000      0.000000     40.000000\n",
      "75%       48.000000      0.000000      0.000000     45.000000\n",
      "max       90.000000  99999.000000   4356.000000     99.000000\n"
     ]
    }
   ],
   "source": [
    "# for numerical variables\n",
    "summary=data.describe()\n",
    "print(summary)"
   ]
  },
  {
   "cell_type": "code",
   "execution_count": 4,
   "id": "a0c3d60e-95e3-4aa2-9ff6-ec4fb1d138da",
   "metadata": {},
   "outputs": [
    {
     "name": "stdout",
     "output_type": "stream",
     "text": [
      "         JobType    EdType        maritalstatus       occupation relationship  \\\n",
      "count      31978     31978                31978            31978        31978   \n",
      "unique         9        16                    7               15            6   \n",
      "top      Private   HS-grad   Married-civ-spouse   Prof-specialty      Husband   \n",
      "freq       22286     10368                14692             4038        12947   \n",
      "\n",
      "          race gender   nativecountry                        SalStat  \n",
      "count    31978  31978           31978                          31978  \n",
      "unique       5      2              41                              2  \n",
      "top      White   Male   United-States   less than or equal to 50,000  \n",
      "freq     27430  21370           29170                          24283  \n"
     ]
    }
   ],
   "source": [
    "# for categorical variables \n",
    "summary_cat=data.describe(include='O')\n",
    "print(summary_cat)"
   ]
  },
  {
   "cell_type": "code",
   "execution_count": 5,
   "id": "3a2f92e8-6666-45c3-9b28-6e1da561de99",
   "metadata": {},
   "outputs": [
    {
     "data": {
      "text/plain": [
       "JobType\n",
       " Private             22286\n",
       " Self-emp-not-inc     2499\n",
       " Local-gov            2067\n",
       " ?                    1809\n",
       " State-gov            1279\n",
       " Self-emp-inc         1074\n",
       " Federal-gov           943\n",
       " Without-pay            14\n",
       " Never-worked            7\n",
       "Name: count, dtype: int64"
      ]
     },
     "execution_count": 5,
     "metadata": {},
     "output_type": "execute_result"
    }
   ],
   "source": [
    "#freq of each categories\n",
    "data['JobType'].value_counts()"
   ]
  },
  {
   "cell_type": "code",
   "execution_count": 6,
   "id": "859dac9f-41fc-4d43-824f-2e415cb805e8",
   "metadata": {},
   "outputs": [
    {
     "data": {
      "text/plain": [
       "occupation\n",
       " Prof-specialty       4038\n",
       " Craft-repair         4030\n",
       " Exec-managerial      3992\n",
       " Adm-clerical         3721\n",
       " Sales                3584\n",
       " Other-service        3212\n",
       " Machine-op-inspct    1966\n",
       " ?                    1816\n",
       " Transport-moving     1572\n",
       " Handlers-cleaners    1350\n",
       " Farming-fishing       989\n",
       " Tech-support          912\n",
       " Protective-serv       644\n",
       " Priv-house-serv       143\n",
       " Armed-Forces            9\n",
       "Name: count, dtype: int64"
      ]
     },
     "execution_count": 6,
     "metadata": {},
     "output_type": "execute_result"
    }
   ],
   "source": [
    "data['occupation'].value_counts()"
   ]
  },
  {
   "cell_type": "code",
   "execution_count": 7,
   "id": "62ade53d-978a-4865-9007-70d8f77ef2ba",
   "metadata": {},
   "outputs": [
    {
     "name": "stdout",
     "output_type": "stream",
     "text": [
      "[' ?' ' Federal-gov' ' Local-gov' ' Never-worked' ' Private'\n",
      " ' Self-emp-inc' ' Self-emp-not-inc' ' State-gov' ' Without-pay']\n",
      "[' ?' ' Adm-clerical' ' Armed-Forces' ' Craft-repair' ' Exec-managerial'\n",
      " ' Farming-fishing' ' Handlers-cleaners' ' Machine-op-inspct'\n",
      " ' Other-service' ' Priv-house-serv' ' Prof-specialty' ' Protective-serv'\n",
      " ' Sales' ' Tech-support' ' Transport-moving']\n"
     ]
    }
   ],
   "source": [
    "#cheking for unique classes\n",
    "print(np.unique(data['JobType']))\n",
    "print(np.unique(data['occupation']))"
   ]
  },
  {
   "cell_type": "code",
   "execution_count": 8,
   "id": "01b003f9-19ab-4cac-88d7-b46164d8fe1c",
   "metadata": {},
   "outputs": [],
   "source": [
    "data=pd.read_csv(\"/Users/shaktisingh/Documents/Python for data science/income.csv\",na_values=[\" ?\"])"
   ]
  },
  {
   "cell_type": "code",
   "execution_count": 9,
   "id": "c0b421ce-4967-476e-842f-25979cfade27",
   "metadata": {},
   "outputs": [],
   "source": [
    "#Data pre-processing--droping rows containing null values\n",
    "\n",
    "data.isnull().sum()\n",
    "missing=data[data.isnull().any(axis=1)]\n",
    "data2=data.dropna(axis=0)"
   ]
  },
  {
   "cell_type": "code",
   "execution_count": 10,
   "id": "7c0dacfb-787e-4b02-b0ed-1a4b9cb8a024",
   "metadata": {},
   "outputs": [
    {
     "data": {
      "text/plain": [
       "age              30162\n",
       "JobType          30162\n",
       "EdType           30162\n",
       "maritalstatus    30162\n",
       "occupation       30162\n",
       "relationship     30162\n",
       "race             30162\n",
       "gender           30162\n",
       "capitalgain      30162\n",
       "capitalloss      30162\n",
       "hoursperweek     30162\n",
       "nativecountry    30162\n",
       "SalStat          30162\n",
       "dtype: int64"
      ]
     },
     "execution_count": 10,
     "metadata": {},
     "output_type": "execute_result"
    }
   ],
   "source": [
    "data2.count()"
   ]
  },
  {
   "cell_type": "code",
   "execution_count": 11,
   "id": "0f111197-c33e-4785-937c-35eeb174f88f",
   "metadata": {},
   "outputs": [
    {
     "name": "stdout",
     "output_type": "stream",
     "text": [
      "col_0       count\n",
      "gender           \n",
      " Female  0.324315\n",
      " Male    0.675685\n"
     ]
    }
   ],
   "source": [
    "#Cheking correlation between variables\n",
    "#checking gender proportion\n",
    "gender=pd.crosstab(index=data2[\"gender\"],\n",
    "                   columns='count',\n",
    "                   normalize=True)\n",
    "print(gender)"
   ]
  },
  {
   "cell_type": "code",
   "execution_count": 12,
   "id": "f8844a09-56a9-4ae1-9968-27512d557117",
   "metadata": {},
   "outputs": [
    {
     "name": "stdout",
     "output_type": "stream",
     "text": [
      "SalStat   greater than 50,000   less than or equal to 50,000\n",
      "gender                                                      \n",
      " Female              0.113678                       0.886322\n",
      " Male                0.313837                       0.686163\n",
      "All                  0.248922                       0.751078\n"
     ]
    }
   ],
   "source": [
    "#gender vs salarystatus\n",
    "gen_vs_salstat=pd.crosstab(index=data2['gender'],\n",
    "                           columns=data2['SalStat'],\n",
    "                           margins=True,\n",
    "                           normalize='index')\n",
    "print(gen_vs_salstat)"
   ]
  },
  {
   "cell_type": "code",
   "execution_count": 13,
   "id": "7adffe71-69eb-44f4-87f2-b592a8e78de1",
   "metadata": {},
   "outputs": [
    {
     "data": {
      "image/png": "[encoded data removed]",
      "text/plain": [
       "<Figure size 640x480 with 1 Axes>"
      ]
     },
     "metadata": {},
     "output_type": "display_data"
    }
   ],
   "source": [
    "#Freq distribution of salarystatus \n",
    "salstat=sns.countplot(data=data2,x='SalStat')"
   ]
  },
  {
   "cell_type": "code",
   "execution_count": 14,
   "id": "385e9cd7-2542-4bd7-b9fd-ad0bae55d3ae",
   "metadata": {},
   "outputs": [
    {
     "name": "stderr",
     "output_type": "stream",
     "text": [
      "/opt/anaconda3/lib/python3.11/site-packages/seaborn/_oldcore.py:1119: FutureWarning: use_inf_as_na option is deprecated and will be removed in a future version. Convert inf values to NaN before operating instead.\n",
      "  with pd.option_context('mode.use_inf_as_na', True):\n"
     ]
    },
    {
     "data": {
      "text/plain": [
       "<Axes: xlabel='age', ylabel='Count'>"
      ]
     },
     "execution_count": 14,
     "metadata": {},
     "output_type": "execute_result"
    },
    {
     "data": {
      "image/png": "[encoded data removed]",
      "text/plain": [
       "<Figure size 640x480 with 1 Axes>"
      ]
     },
     "metadata": {},
     "output_type": "display_data"
    }
   ],
   "source": [
    "#for age distribution\n",
    "sns.histplot(data2['age'],bins=10,kde=False)\n",
    "## People with age 20-45 are high in frequency"
   ]
  },
  {
   "cell_type": "code",
   "execution_count": 15,
   "id": "78e66806-3114-4157-bfa5-c30102c761ed",
   "metadata": {},
   "outputs": [
    {
     "data": {
      "text/plain": [
       "<Axes: xlabel='SalStat', ylabel='age'>"
      ]
     },
     "execution_count": 15,
     "metadata": {},
     "output_type": "execute_result"
    },
    {
     "data": {
      "image/png": "[encoded data removed]",
      "text/plain": [
       "<Figure size 640x480 with 1 Axes>"
      ]
     },
     "metadata": {},
     "output_type": "display_data"
    }
   ],
   "source": [
    "#Age vs salarystatus\n",
    "sns.boxplot(x='SalStat',y='age',data=data2)"
   ]
  },
  {
   "cell_type": "code",
   "execution_count": 16,
   "id": "e118fed4-d4ff-4434-bc41-9262ab96ac69",
   "metadata": {},
   "outputs": [
    {
     "data": {
      "text/plain": [
       "SalStat\n",
       " greater than 50,000             43.0\n",
       " less than or equal to 50,000    34.0\n",
       "Name: age, dtype: float64"
      ]
     },
     "execution_count": 16,
     "metadata": {},
     "output_type": "execute_result"
    }
   ],
   "source": [
    "data2.groupby('SalStat')['age'].median()"
   ]
  },
  {
   "cell_type": "code",
   "execution_count": 17,
   "id": "db5011a1-7df0-42c5-b20b-83d186687550",
   "metadata": {},
   "outputs": [
    {
     "name": "stdout",
     "output_type": "stream",
     "text": [
      "SalStat             greater than 50,000   less than or equal to 50,000\n",
      "JobType                                                               \n",
      " Federal-gov                   0.387063                       0.612937\n",
      " Local-gov                     0.294630                       0.705370\n",
      " Private                       0.218792                       0.781208\n",
      " Self-emp-inc                  0.558659                       0.441341\n",
      " Self-emp-not-inc              0.285714                       0.714286\n",
      " State-gov                     0.268960                       0.731040\n",
      " Without-pay                   0.000000                       1.000000\n",
      "All                            0.248922                       0.751078\n"
     ]
    }
   ],
   "source": [
    "#jobtype vs salarystatus\n",
    "jobtype_vs_salstat=pd.crosstab(index=data2['JobType'],\n",
    "                               columns=data2['SalStat'],\n",
    "                               margins=True,\n",
    "                               normalize='index')\n",
    "print(jobtype_vs_salstat)"
   ]
  },
  {
   "cell_type": "code",
   "execution_count": 18,
   "id": "283a022b-d9bb-4c46-83a0-37486c578466",
   "metadata": {},
   "outputs": [
    {
     "name": "stdout",
     "output_type": "stream",
     "text": [
      "SalStat         greater than 50,000   less than or equal to 50,000\n",
      "EdType                                                            \n",
      " 10th                      0.071951                       0.928049\n",
      " 11th                      0.056298                       0.943702\n",
      " 12th                      0.076923                       0.923077\n",
      " 1st-4th                   0.039735                       0.960265\n",
      " 5th-6th                   0.041667                       0.958333\n",
      " 7th-8th                   0.062837                       0.937163\n",
      " 9th                       0.054945                       0.945055\n",
      " Assoc-acdm                0.253968                       0.746032\n",
      " Assoc-voc                 0.263198                       0.736802\n",
      " Bachelors                 0.421491                       0.578509\n",
      " Doctorate                 0.746667                       0.253333\n",
      " HS-grad                   0.164329                       0.835671\n",
      " Masters                   0.564229                       0.435771\n",
      " Preschool                 0.000000                       1.000000\n",
      " Prof-school               0.749077                       0.250923\n",
      " Some-college              0.200060                       0.799940\n",
      "All                        0.248922                       0.751078\n"
     ]
    }
   ],
   "source": [
    "#education vs salarystatus\n",
    "edtype_vs_alstat=pd.crosstab(index=data2['EdType'],\n",
    "                               columns=data2['SalStat'],\n",
    "                               margins=True,\n",
    "                               normalize='index')\n",
    "print(edtype_vs_alstat)"
   ]
  },
  {
   "cell_type": "code",
   "execution_count": 19,
   "id": "4fb44e33-7cb8-4193-bd7f-1f4d7866a085",
   "metadata": {},
   "outputs": [
    {
     "name": "stdout",
     "output_type": "stream",
     "text": [
      "SalStat              greater than 50,000   less than or equal to 50,000\n",
      "occupation                                                             \n",
      " Adm-clerical                   0.133835                       0.866165\n",
      " Armed-Forces                   0.111111                       0.888889\n",
      " Craft-repair                   0.225310                       0.774690\n",
      " Exec-managerial                0.485220                       0.514780\n",
      " Farming-fishing                0.116279                       0.883721\n",
      " Handlers-cleaners              0.061481                       0.938519\n",
      " Machine-op-inspct              0.124619                       0.875381\n",
      " Other-service                  0.041096                       0.958904\n",
      " Priv-house-serv                0.006993                       0.993007\n",
      " Prof-specialty                 0.448489                       0.551511\n",
      " Protective-serv                0.326087                       0.673913\n",
      " Sales                          0.270647                       0.729353\n",
      " Tech-support                   0.304825                       0.695175\n",
      " Transport-moving               0.202926                       0.797074\n",
      "All                             0.248922                       0.751078\n"
     ]
    }
   ],
   "source": [
    "#occupation vs salarystatus\n",
    "occupation_vs_salstat=pd.crosstab(index=data2['occupation'],\n",
    "                               columns=data2['SalStat'],\n",
    "                               margins=True,\n",
    "                               normalize='index')\n",
    "print(occupation_vs_salstat)"
   ]
  },
  {
   "cell_type": "code",
   "execution_count": 20,
   "id": "1b29728c-2ed7-4de8-af51-3dabfa6d0fea",
   "metadata": {},
   "outputs": [
    {
     "data": {
      "image/png": "[encoded data removed]",
      "text/plain": [
       "<Figure size 640x480 with 1 Axes>"
      ]
     },
     "metadata": {},
     "output_type": "display_data"
    }
   ],
   "source": [
    "#hoursperweek vs salarystatus\n",
    "hoursperweek=sns.boxplot(y='hoursperweek',x='SalStat',data=data2)"
   ]
  },
  {
   "cell_type": "code",
   "execution_count": 21,
   "id": "759920fe-628f-4e61-be40-8ac319537d4a",
   "metadata": {},
   "outputs": [
    {
     "name": "stderr",
     "output_type": "stream",
     "text": [
      "/opt/anaconda3/lib/python3.11/site-packages/seaborn/_oldcore.py:1119: FutureWarning: use_inf_as_na option is deprecated and will be removed in a future version. Convert inf values to NaN before operating instead.\n",
      "  with pd.option_context('mode.use_inf_as_na', True):\n"
     ]
    },
    {
     "data": {
      "text/plain": [
       "<seaborn.axisgrid.FacetGrid at 0x107de4050>"
      ]
     },
     "execution_count": 21,
     "metadata": {},
     "output_type": "execute_result"
    },
    {
     "data": {
      "image/png": "[encoded data removed]",
      "text/plain": [
       "<Figure size 500x500 with 1 Axes>"
      ]
     },
     "metadata": {},
     "output_type": "display_data"
    }
   ],
   "source": [
    "#capital gain and loss\n",
    "sns.displot(data2['capitalgain'],bins=10,kde=False)"
   ]
  },
  {
   "cell_type": "code",
   "execution_count": 22,
   "id": "6cd2dafe-1caa-42b0-886f-b0b69e4fd1fe",
   "metadata": {},
   "outputs": [
    {
     "name": "stderr",
     "output_type": "stream",
     "text": [
      "/opt/anaconda3/lib/python3.11/site-packages/seaborn/_oldcore.py:1119: FutureWarning: use_inf_as_na option is deprecated and will be removed in a future version. Convert inf values to NaN before operating instead.\n",
      "  with pd.option_context('mode.use_inf_as_na', True):\n"
     ]
    },
    {
     "data": {
      "text/plain": [
       "<seaborn.axisgrid.FacetGrid at 0x14ac18410>"
      ]
     },
     "execution_count": 22,
     "metadata": {},
     "output_type": "execute_result"
    },
    {
     "data": {
      "image/png": "[encoded data removed]",
      "text/plain": [
       "<Figure size 500x500 with 1 Axes>"
      ]
     },
     "metadata": {},
     "output_type": "display_data"
    }
   ],
   "source": [
    "sns.displot(data2['capitalloss'],bins=10,kde=False)"
   ]
  },
  {
   "cell_type": "code",
   "execution_count": 23,
   "id": "8ff83b48-b0b1-467b-a188-fb13f6d4a81c",
   "metadata": {},
   "outputs": [
    {
     "name": "stdout",
     "output_type": "stream",
     "text": [
      "[0 1]\n"
     ]
    },
    {
     "name": "stderr",
     "output_type": "stream",
     "text": [
      "/var/folders/cy/bp0mb2rn0256sptt230gsw1r0000gn/T/ipykernel_34521/1060587206.py:3: SettingWithCopyWarning: \n",
      "A value is trying to be set on a copy of a slice from a DataFrame.\n",
      "Try using .loc[row_indexer,col_indexer] = value instead\n",
      "\n",
      "See the caveats in the documentation: https://pandas.pydata.org/pandas-docs/stable/user_guide/indexing.html#returning-a-view-versus-a-copy\n",
      "  data2['SalStat']=data2['SalStat'].map({' less than or equal to 50,000':0,' greater than 50,000':1})\n"
     ]
    }
   ],
   "source": [
    "#LOGISTIC REGRESSION\n",
    "# reindexing the salary status names to 0,1\n",
    "data2['SalStat']=data2['SalStat'].map({' less than or equal to 50,000':0,' greater than 50,000':1})\n",
    "print(data2['SalStat'].unique())"
   ]
  },
  {
   "cell_type": "code",
   "execution_count": 24,
   "id": "1703498e-18b8-4729-8af8-1e00135b755a",
   "metadata": {},
   "outputs": [],
   "source": [
    "new_data=pd.get_dummies(data2, drop_first=True)"
   ]
  },
  {
   "cell_type": "code",
   "execution_count": 25,
   "id": "a99268b8-32e4-489a-8224-6ce7b3e85dac",
   "metadata": {},
   "outputs": [
    {
     "name": "stdout",
     "output_type": "stream",
     "text": [
      "[0 0 1 ... 0 0 0]\n",
      "[[False True False ... False False False]\n",
      " [False True True ... False False False]\n",
      " [False True False ... False False False]\n",
      " ...\n",
      " [False True False ... False False False]\n",
      " [False True False ... False False False]\n",
      " [False True False ... False False False]]\n"
     ]
    }
   ],
   "source": [
    "#Storing the column names \n",
    "column_list=list(new_data.columns)\n",
    "# print(column_list)\n",
    "\n",
    "#Seperating the input names from data\n",
    "features=list(set(column_list)-set(['SalStat']))\n",
    "# print(features)\n",
    "\n",
    "#storing the column values in Y\n",
    "y=data2['SalStat'].values\n",
    "print(y)\n",
    "\n",
    "#storing the input values from features in X\n",
    "x=new_data[features].values\n",
    "print(x)"
   ]
  },
  {
   "cell_type": "code",
   "execution_count": 26,
   "id": "db0f96a5-858c-435c-8c07-dc324aefb159",
   "metadata": {},
   "outputs": [],
   "source": [
    "#splitting the data into train and test\n",
    "\n",
    "from sklearn.model_selection import train_test_split\n",
    "from sklearn.linear_model import LogisticRegression\n",
    "from sklearn.metrics import confusion_matrix\n",
    "from sklearn.metrics import accuracy_score\n",
    "\n",
    "train_x,test_x,train_y,test_y=train_test_split(x,y,test_size=0.3,random_state=0)"
   ]
  },
  {
   "cell_type": "code",
   "execution_count": 27,
   "id": "38b86ee0-3c93-4b30-9336-90dfe8bfa390",
   "metadata": {},
   "outputs": [
    {
     "name": "stderr",
     "output_type": "stream",
     "text": [
      "/opt/anaconda3/lib/python3.11/site-packages/sklearn/linear_model/_logistic.py:458: ConvergenceWarning: lbfgs failed to converge (status=1):\n",
      "STOP: TOTAL NO. of ITERATIONS REACHED LIMIT.\n",
      "\n",
      "Increase the number of iterations (max_iter) or scale the data as shown in:\n",
      "    https://scikit-learn.org/stable/modules/preprocessing.html\n",
      "Please also refer to the documentation for alternative solver options:\n",
      "    https://scikit-learn.org/stable/modules/linear_model.html#logistic-regression\n",
      "  n_iter_i = _check_optimize_result(\n"
     ]
    },
    {
     "data": {
      "text/plain": [
       "array([-1.04001717])"
      ]
     },
     "execution_count": 27,
     "metadata": {},
     "output_type": "execute_result"
    }
   ],
   "source": [
    "#make an instance of the model\n",
    "logistic=LogisticRegression()\n",
    "\n",
    "# fitting the values for x and y\n",
    "logistic.fit(train_x,train_y)\n",
    "logistic.coef_\n",
    "logistic.intercept_"
   ]
  },
  {
   "cell_type": "code",
   "execution_count": 28,
   "id": "cbd8e4fc-3eac-4b35-baa6-4758a29b187a",
   "metadata": {},
   "outputs": [
    {
     "name": "stdout",
     "output_type": "stream",
     "text": [
      "[[6293  530]\n",
      " [ 953 1273]]\n",
      "0.8361144877887059\n",
      "Misclassified samples: 1483\n"
     ]
    }
   ],
   "source": [
    "# prediction from test data\n",
    "prediction = logistic.predict(test_x)\n",
    "\n",
    "#confusion matrix\n",
    "confusion_matrix= confusion_matrix(test_y, prediction)\n",
    "print(confusion_matrix)\n",
    "\n",
    "#calculating the accuracy\n",
    "accuracy_score= accuracy_score(test_y, prediction)\n",
    "print(accuracy_score)\n",
    "\n",
    "#Printing the misclassified values from prediction\n",
    "print('Misclassified samples: %d' % (test_y != prediction).sum())"
   ]
  },
  {
   "cell_type": "code",
   "execution_count": 29,
   "id": "d04d76f0-1525-4171-aa86-fc3d5f798f43",
   "metadata": {},
   "outputs": [
    {
     "name": "stdout",
     "output_type": "stream",
     "text": [
      "['age', 'capitalgain', 'capitalloss', 'hoursperweek', 'SalStat', 'EdType_ 11th', 'EdType_ 12th', 'EdType_ 1st-4th', 'EdType_ 5th-6th', 'EdType_ 7th-8th', 'EdType_ 9th', 'EdType_ Assoc-acdm', 'EdType_ Assoc-voc', 'EdType_ Bachelors', 'EdType_ Doctorate', 'EdType_ HS-grad', 'EdType_ Masters', 'EdType_ Preschool', 'EdType_ Prof-school', 'EdType_ Some-college', 'maritalstatus_ Married-AF-spouse', 'maritalstatus_ Married-civ-spouse', 'maritalstatus_ Married-spouse-absent', 'maritalstatus_ Never-married', 'maritalstatus_ Separated', 'maritalstatus_ Widowed', 'occupation_ Armed-Forces', 'occupation_ Craft-repair', 'occupation_ Exec-managerial', 'occupation_ Farming-fishing', 'occupation_ Handlers-cleaners', 'occupation_ Machine-op-inspct', 'occupation_ Other-service', 'occupation_ Priv-house-serv', 'occupation_ Prof-specialty', 'occupation_ Protective-serv', 'occupation_ Sales', 'occupation_ Tech-support', 'occupation_ Transport-moving', 'relationship_ Not-in-family', 'relationship_ Other-relative', 'relationship_ Own-child', 'relationship_ Unmarried', 'relationship_ Wife']\n",
      "['EdType_ 9th', 'occupation_ Armed-Forces', 'age', 'EdType_ 12th', 'maritalstatus_ Widowed', 'occupation_ Other-service', 'capitalgain', 'maritalstatus_ Never-married', 'hoursperweek', 'EdType_ Preschool', 'maritalstatus_ Married-spouse-absent', 'maritalstatus_ Separated', 'occupation_ Handlers-cleaners', 'relationship_ Not-in-family', 'occupation_ Farming-fishing', 'occupation_ Machine-op-inspct', 'EdType_ Doctorate', 'occupation_ Craft-repair', 'relationship_ Own-child', 'relationship_ Wife', 'occupation_ Sales', 'occupation_ Protective-serv', 'occupation_ Tech-support', 'EdType_ Masters', 'EdType_ Bachelors', 'occupation_ Priv-house-serv', 'occupation_ Prof-specialty', 'occupation_ Transport-moving', 'relationship_ Unmarried', 'maritalstatus_ Married-civ-spouse', 'EdType_ Assoc-acdm', 'occupation_ Exec-managerial', 'EdType_ HS-grad', 'EdType_ Prof-school', 'relationship_ Other-relative', 'EdType_ 11th', 'EdType_ 1st-4th', 'EdType_ Some-college', 'EdType_ 7th-8th', 'EdType_ 5th-6th', 'EdType_ Assoc-voc', 'maritalstatus_ Married-AF-spouse', 'capitalloss']\n",
      "[0 0 1 ... 0 0 0]\n",
      "[[False False 45 ... False False 0]\n",
      " [False True 24 ... False False 0]\n",
      " [False False 44 ... False False 0]\n",
      " ...\n",
      " [False False 23 ... False False 0]\n",
      " [False False 42 ... False False 0]\n",
      " [False False 29 ... False False 0]]\n"
     ]
    },
    {
     "name": "stderr",
     "output_type": "stream",
     "text": [
      "/opt/anaconda3/lib/python3.11/site-packages/sklearn/linear_model/_logistic.py:458: ConvergenceWarning: lbfgs failed to converge (status=1):\n",
      "STOP: TOTAL NO. of ITERATIONS REACHED LIMIT.\n",
      "\n",
      "Increase the number of iterations (max_iter) or scale the data as shown in:\n",
      "    https://scikit-learn.org/stable/modules/preprocessing.html\n",
      "Please also refer to the documentation for alternative solver options:\n",
      "    https://scikit-learn.org/stable/modules/linear_model.html#logistic-regression\n",
      "  n_iter_i = _check_optimize_result(\n"
     ]
    }
   ],
   "source": [
    " #LOGISTIC REGRESSION - REMOVING INSIGNIFICANT VARIABLES\n",
    "\n",
    "cols=['gender','nativecountry','race','JobType']\n",
    "data2= data2.drop(cols,axis=1)\n",
    "      \n",
    "new_data1=pd.get_dummies(data2, drop_first=True)\n",
    "\n",
    "#Storing the column names \n",
    "column_list=list(new_data1.columns)\n",
    "print(column_list)\n",
    "\n",
    "#Seperating the input names from data\n",
    "features=list(set(column_list)-set(['SalStat']))\n",
    "print(features)\n",
    "\n",
    "#storing the column values in Y\n",
    "y1=new_data1['SalStat'].values\n",
    "print(y1)\n",
    "\n",
    "#storing the input values from features in X\n",
    "x1=new_data1[features].values\n",
    "print(x1)\n",
    "\n",
    "#splitting the data into train and test\n",
    "\n",
    "train_x1,test_x1,train_y1,test_y1=train_test_split(x1,y1,test_size=0.3,random_state=0)\n",
    "\n",
    "#make an instance of the model\n",
    "logistic1=LogisticRegression()\n",
    "\n",
    "# fitting the values for x and y\n",
    "logistic1.fit(train_x1,train_y1)\n",
    "logistic1.coef_\n",
    "logistic1.intercept_\n",
    "\n",
    "\n",
    "# prediction from test data\n",
    "prediction1 = logistic1.predict(test_x1)"
   ]
  },
  {
   "cell_type": "code",
   "execution_count": 30,
   "id": "b32fa713-1f59-437d-a61b-8080af74089e",
   "metadata": {},
   "outputs": [
    {
     "name": "stdout",
     "output_type": "stream",
     "text": [
      "[[6317  506]\n",
      " [ 981 1245]]\n",
      "0.8356724499944745\n",
      "Misclassified samples: 1487\n"
     ]
    }
   ],
   "source": [
    "from sklearn.metrics import confusion_matrix\n",
    "from sklearn.metrics import accuracy_score\n",
    "#confusion matrix\n",
    "confusion_matrix1= confusion_matrix(test_y1, prediction1)\n",
    "print(confusion_matrix1)\n",
    "\n",
    "#calculating the accuracy\n",
    "accuracy_score1= accuracy_score(test_y1, prediction1)\n",
    "print(accuracy_score1)\n",
    "\n",
    "#Printing the misclassified values from prediction\n",
    "print('Misclassified samples: %d' % (test_y1 != prediction1).sum())"
   ]
  },
  {
   "cell_type": "code",
   "execution_count": 31,
   "id": "c3e2e54e-bcf1-487c-966f-fcbdc19702bf",
   "metadata": {},
   "outputs": [
    {
     "name": "stdout",
     "output_type": "stream",
     "text": [
      "[[6176  647]\n",
      " [ 808 1418]]\n",
      "0.8392087523483258\n"
     ]
    }
   ],
   "source": [
    "#KNN CLASSIFIER MODEL\n",
    "\n",
    "from sklearn.neighbors import KNeighborsClassifier\n",
    "import matplotlib.pyplot as plt\n",
    "\n",
    "KNN_classifier = KNeighborsClassifier(n_neighbors = 5)\n",
    "KNN_classifier.fit(train_x,train_y)\n",
    "\n",
    "prediction2= KNN_classifier.predict(test_x)\n",
    "\n",
    "#Performancce metrics check\n",
    "confusion_matrix2= confusion_matrix(test_y, prediction2)\n",
    "print(confusion_matrix2)\n",
    " \n",
    "#calculating the accuracy\n",
    "accuracy_score2= accuracy_score(test_y, prediction2)\n",
    "print(accuracy_score2)"
   ]
  },
  {
   "cell_type": "code",
   "execution_count": 32,
   "id": "5132c6e4-9cf3-4b6d-8bd6-6442bfd27d34",
   "metadata": {},
   "outputs": [
    {
     "name": "stdout",
     "output_type": "stream",
     "text": [
      "[1766, 1516, 1522, 1437, 1455, 1455, 1456, 1452, 1481, 1432, 1465, 1446, 1451, 1435, 1421, 1415, 1435, 1423, 1443]\n"
     ]
    }
   ],
   "source": [
    "Misclassified_sample=[]\n",
    "# Calculating error for K values between 1 and 20\n",
    "for i in range (1,20):\n",
    "        knn = KNeighborsClassifier(n_neighbors=i)\n",
    "        knn.fit(train_x,train_y)\n",
    "        pred_i = knn.predict(test_x)\n",
    "        Misclassified_sample.append((test_y != pred_i).sum())\n",
    "        \n",
    "print(Misclassified_sample)"
   ]
  },
  {
   "cell_type": "code",
   "execution_count": null,
   "id": "9a231a6d-1152-421f-a3b7-ffe45bfcadef",
   "metadata": {},
   "outputs": [],
   "source": []
  }
 ],
 "metadata": {
  "kernelspec": {
   "display_name": "Python 3 (ipykernel)",
   "language": "python",
   "name": "python3"
  },
  "language_info": {
   "codemirror_mode": {
    "name": "ipython",
    "version": 3
   },
   "file_extension": ".py",
   "mimetype": "text/x-python",
   "name": "python",
   "nbconvert_exporter": "python",
   "pygments_lexer": "ipython3",
   "version": "3.11.7"
  }
 },
 "nbformat": 4,
 "nbformat_minor": 5
}
